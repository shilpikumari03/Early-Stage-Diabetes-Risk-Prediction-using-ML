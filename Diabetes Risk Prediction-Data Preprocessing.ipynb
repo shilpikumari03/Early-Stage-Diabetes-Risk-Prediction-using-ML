{
 "cells": [
  {
   "cell_type": "markdown",
   "id": "ae1b38e9",
   "metadata": {},
   "source": [
    "Diabetes is a long-lasting disease triggered by expanded sugar levels in human blood and can affect various organs if left untreated. It contributes to heart disease, kidney issues, damaged nerves, damaged blood vessels, and blindness. Timely disease prediction can save precious lives and enable healthcare advisors to take care of the conditions. Most diabetic patients know little about the risk factors they face before diagnosis. \n",
    "\n",
    "Diabetes data was gathered from the UCI repository.The dataset utilized here comprises of 520 instances, with 17 attributes including a class attribute used to predict the positive and negative rate of chances of having diabetes or not.The dataset is created by clinical treatment data that were gathered by direct surveys from Sylhet Diabetes Hospital patients in Sylhet, Bangladesh, and were validated by the doctors."
   ]
  },
  {
   "cell_type": "markdown",
   "id": "f8a02590",
   "metadata": {},
   "source": [
    "### Data Preprocessing"
   ]
  },
  {
   "cell_type": "markdown",
   "id": "e9fe28f3",
   "metadata": {},
   "source": [
    "##### Importing all the required python linbraries"
   ]
  },
  {
   "cell_type": "code",
   "execution_count": 1,
   "id": "7c325842",
   "metadata": {},
   "outputs": [],
   "source": [
    "import pandas as pd\n",
    "from sklearn.tree import DecisionTreeClassifier \n",
    "from matplotlib import pyplot as plt\n",
    "import numpy as np\n",
    "from sklearn.metrics import confusion_matrix\n",
    "from imblearn.over_sampling import RandomOverSampler\n",
    "from sklearn.svm import SVC\n",
    "from sklearn.model_selection import GridSearchCV, RandomizedSearchCV\n",
    "from sklearn.preprocessing import LabelEncoder\n",
    "from sklearn.model_selection import train_test_split\n",
    "from sklearn import preprocessing\n",
    "from sklearn.preprocessing import StandardScaler\n",
    "import matplotlib.pyplot as plt\n",
    "from sklearn.preprocessing import LabelEncoder\n",
    "from sklearn.linear_model import LogisticRegression\n",
    "from sklearn.metrics import confusion_matrix\n",
    "from sklearn.tree import DecisionTreeRegressor"
   ]
  },
  {
   "cell_type": "markdown",
   "id": "107988c8",
   "metadata": {},
   "source": [
    "##### Loading the dataset"
   ]
  },
  {
   "cell_type": "code",
   "execution_count": 14,
   "id": "2a5dd749",
   "metadata": {
    "scrolled": true
   },
   "outputs": [],
   "source": [
    "df = pd.read_csv(r\"C:\\Users\\shilp\\Downloads\\diabetes.csv\")"
   ]
  },
  {
   "cell_type": "markdown",
   "id": "2badd982",
   "metadata": {},
   "source": [
    "##### Data Exploration"
   ]
  },
  {
   "cell_type": "code",
   "execution_count": 15,
   "id": "f9f6c225",
   "metadata": {},
   "outputs": [
    {
     "data": {
      "text/html": [
       "<div>\n",
       "<style scoped>\n",
       "    .dataframe tbody tr th:only-of-type {\n",
       "        vertical-align: middle;\n",
       "    }\n",
       "\n",
       "    .dataframe tbody tr th {\n",
       "        vertical-align: top;\n",
       "    }\n",
       "\n",
       "    .dataframe thead th {\n",
       "        text-align: right;\n",
       "    }\n",
       "</style>\n",
       "<table border=\"1\" class=\"dataframe\">\n",
       "  <thead>\n",
       "    <tr style=\"text-align: right;\">\n",
       "      <th></th>\n",
       "      <th>Age</th>\n",
       "      <th>Gender</th>\n",
       "      <th>Polyuria</th>\n",
       "      <th>Polydipsia</th>\n",
       "      <th>sudden weight loss</th>\n",
       "      <th>weakness</th>\n",
       "      <th>Polyphagia</th>\n",
       "      <th>Genital thrush</th>\n",
       "      <th>visual blurring</th>\n",
       "      <th>Itching</th>\n",
       "      <th>Irritability</th>\n",
       "      <th>delayed healing</th>\n",
       "      <th>partial paresis</th>\n",
       "      <th>muscle stiffness</th>\n",
       "      <th>Alopecia</th>\n",
       "      <th>Obesity</th>\n",
       "      <th>class</th>\n",
       "    </tr>\n",
       "  </thead>\n",
       "  <tbody>\n",
       "    <tr>\n",
       "      <th>0</th>\n",
       "      <td>40</td>\n",
       "      <td>Male</td>\n",
       "      <td>No</td>\n",
       "      <td>Yes</td>\n",
       "      <td>No</td>\n",
       "      <td>Yes</td>\n",
       "      <td>No</td>\n",
       "      <td>No</td>\n",
       "      <td>No</td>\n",
       "      <td>Yes</td>\n",
       "      <td>No</td>\n",
       "      <td>Yes</td>\n",
       "      <td>No</td>\n",
       "      <td>Yes</td>\n",
       "      <td>Yes</td>\n",
       "      <td>Yes</td>\n",
       "      <td>Positive</td>\n",
       "    </tr>\n",
       "    <tr>\n",
       "      <th>1</th>\n",
       "      <td>58</td>\n",
       "      <td>Male</td>\n",
       "      <td>No</td>\n",
       "      <td>No</td>\n",
       "      <td>No</td>\n",
       "      <td>Yes</td>\n",
       "      <td>No</td>\n",
       "      <td>No</td>\n",
       "      <td>Yes</td>\n",
       "      <td>No</td>\n",
       "      <td>No</td>\n",
       "      <td>No</td>\n",
       "      <td>Yes</td>\n",
       "      <td>No</td>\n",
       "      <td>Yes</td>\n",
       "      <td>No</td>\n",
       "      <td>Positive</td>\n",
       "    </tr>\n",
       "    <tr>\n",
       "      <th>2</th>\n",
       "      <td>41</td>\n",
       "      <td>Male</td>\n",
       "      <td>Yes</td>\n",
       "      <td>No</td>\n",
       "      <td>No</td>\n",
       "      <td>Yes</td>\n",
       "      <td>Yes</td>\n",
       "      <td>No</td>\n",
       "      <td>No</td>\n",
       "      <td>Yes</td>\n",
       "      <td>No</td>\n",
       "      <td>Yes</td>\n",
       "      <td>No</td>\n",
       "      <td>Yes</td>\n",
       "      <td>Yes</td>\n",
       "      <td>No</td>\n",
       "      <td>Positive</td>\n",
       "    </tr>\n",
       "  </tbody>\n",
       "</table>\n",
       "</div>"
      ],
      "text/plain": [
       "   Age Gender Polyuria Polydipsia sudden weight loss weakness Polyphagia  \\\n",
       "0   40   Male       No        Yes                 No      Yes         No   \n",
       "1   58   Male       No         No                 No      Yes         No   \n",
       "2   41   Male      Yes         No                 No      Yes        Yes   \n",
       "\n",
       "  Genital thrush visual blurring Itching Irritability delayed healing  \\\n",
       "0             No              No     Yes           No             Yes   \n",
       "1             No             Yes      No           No              No   \n",
       "2             No              No     Yes           No             Yes   \n",
       "\n",
       "  partial paresis muscle stiffness Alopecia Obesity     class  \n",
       "0              No              Yes      Yes     Yes  Positive  \n",
       "1             Yes               No      Yes      No  Positive  \n",
       "2              No              Yes      Yes      No  Positive  "
      ]
     },
     "execution_count": 15,
     "metadata": {},
     "output_type": "execute_result"
    }
   ],
   "source": [
    "# look at the data\n",
    "df.head(3) # note that we don't want to dump all the data to the screen"
   ]
  },
  {
   "cell_type": "code",
   "execution_count": 16,
   "id": "dbbc5dca",
   "metadata": {},
   "outputs": [
    {
     "name": "stdout",
     "output_type": "stream",
     "text": [
      "<class 'pandas.core.frame.DataFrame'>\n",
      "RangeIndex: 520 entries, 0 to 519\n",
      "Data columns (total 17 columns):\n",
      " #   Column              Non-Null Count  Dtype \n",
      "---  ------              --------------  ----- \n",
      " 0   Age                 520 non-null    int64 \n",
      " 1   Gender              520 non-null    object\n",
      " 2   Polyuria            520 non-null    object\n",
      " 3   Polydipsia          520 non-null    object\n",
      " 4   sudden weight loss  520 non-null    object\n",
      " 5   weakness            520 non-null    object\n",
      " 6   Polyphagia          520 non-null    object\n",
      " 7   Genital thrush      520 non-null    object\n",
      " 8   visual blurring     520 non-null    object\n",
      " 9   Itching             520 non-null    object\n",
      " 10  Irritability        520 non-null    object\n",
      " 11  delayed healing     520 non-null    object\n",
      " 12  partial paresis     520 non-null    object\n",
      " 13  muscle stiffness    520 non-null    object\n",
      " 14  Alopecia            520 non-null    object\n",
      " 15  Obesity             520 non-null    object\n",
      " 16  class               520 non-null    object\n",
      "dtypes: int64(1), object(16)\n",
      "memory usage: 69.2+ KB\n"
     ]
    }
   ],
   "source": [
    "# generate a basic summary of the data\n",
    "df.info()"
   ]
  },
  {
   "cell_type": "code",
   "execution_count": 17,
   "id": "30a2e8aa",
   "metadata": {},
   "outputs": [
    {
     "data": {
      "text/html": [
       "<div>\n",
       "<style scoped>\n",
       "    .dataframe tbody tr th:only-of-type {\n",
       "        vertical-align: middle;\n",
       "    }\n",
       "\n",
       "    .dataframe tbody tr th {\n",
       "        vertical-align: top;\n",
       "    }\n",
       "\n",
       "    .dataframe thead th {\n",
       "        text-align: right;\n",
       "    }\n",
       "</style>\n",
       "<table border=\"1\" class=\"dataframe\">\n",
       "  <thead>\n",
       "    <tr style=\"text-align: right;\">\n",
       "      <th></th>\n",
       "      <th>Age</th>\n",
       "    </tr>\n",
       "  </thead>\n",
       "  <tbody>\n",
       "    <tr>\n",
       "      <th>count</th>\n",
       "      <td>520.000000</td>\n",
       "    </tr>\n",
       "    <tr>\n",
       "      <th>mean</th>\n",
       "      <td>48.028846</td>\n",
       "    </tr>\n",
       "    <tr>\n",
       "      <th>std</th>\n",
       "      <td>12.151466</td>\n",
       "    </tr>\n",
       "    <tr>\n",
       "      <th>min</th>\n",
       "      <td>16.000000</td>\n",
       "    </tr>\n",
       "    <tr>\n",
       "      <th>25%</th>\n",
       "      <td>39.000000</td>\n",
       "    </tr>\n",
       "    <tr>\n",
       "      <th>50%</th>\n",
       "      <td>47.500000</td>\n",
       "    </tr>\n",
       "    <tr>\n",
       "      <th>75%</th>\n",
       "      <td>57.000000</td>\n",
       "    </tr>\n",
       "    <tr>\n",
       "      <th>max</th>\n",
       "      <td>90.000000</td>\n",
       "    </tr>\n",
       "  </tbody>\n",
       "</table>\n",
       "</div>"
      ],
      "text/plain": [
       "              Age\n",
       "count  520.000000\n",
       "mean    48.028846\n",
       "std     12.151466\n",
       "min     16.000000\n",
       "25%     39.000000\n",
       "50%     47.500000\n",
       "75%     57.000000\n",
       "max     90.000000"
      ]
     },
     "execution_count": 17,
     "metadata": {},
     "output_type": "execute_result"
    }
   ],
   "source": [
    "df.describe()\n"
   ]
  },
  {
   "cell_type": "markdown",
   "id": "49b33f02",
   "metadata": {},
   "source": [
    "##### Checking for null Values"
   ]
  },
  {
   "cell_type": "code",
   "execution_count": 18,
   "id": "aed9e91c",
   "metadata": {},
   "outputs": [
    {
     "data": {
      "text/plain": [
       "Age                   0\n",
       "Gender                0\n",
       "Polyuria              0\n",
       "Polydipsia            0\n",
       "sudden weight loss    0\n",
       "weakness              0\n",
       "Polyphagia            0\n",
       "Genital thrush        0\n",
       "visual blurring       0\n",
       "Itching               0\n",
       "Irritability          0\n",
       "delayed healing       0\n",
       "partial paresis       0\n",
       "muscle stiffness      0\n",
       "Alopecia              0\n",
       "Obesity               0\n",
       "class                 0\n",
       "dtype: int64"
      ]
     },
     "execution_count": 18,
     "metadata": {},
     "output_type": "execute_result"
    }
   ],
   "source": [
    "df.isna().sum()"
   ]
  },
  {
   "cell_type": "code",
   "execution_count": 19,
   "id": "8b4584d6",
   "metadata": {},
   "outputs": [],
   "source": [
    "df.columns = [s.strip().upper().replace(' ', '_') for s in df.columns] "
   ]
  },
  {
   "cell_type": "code",
   "execution_count": 20,
   "id": "e596e4c7",
   "metadata": {},
   "outputs": [
    {
     "data": {
      "text/plain": [
       "Index(['AGE', 'GENDER', 'POLYURIA', 'POLYDIPSIA', 'SUDDEN_WEIGHT_LOSS',\n",
       "       'WEAKNESS', 'POLYPHAGIA', 'GENITAL_THRUSH', 'VISUAL_BLURRING',\n",
       "       'ITCHING', 'IRRITABILITY', 'DELAYED_HEALING', 'PARTIAL_PARESIS',\n",
       "       'MUSCLE_STIFFNESS', 'ALOPECIA', 'OBESITY', 'CLASS'],\n",
       "      dtype='object')"
      ]
     },
     "execution_count": 20,
     "metadata": {},
     "output_type": "execute_result"
    }
   ],
   "source": [
    "df.columns"
   ]
  },
  {
   "cell_type": "markdown",
   "id": "8192a55e",
   "metadata": {},
   "source": [
    "##### Seperating the dependent and independent variables"
   ]
  },
  {
   "cell_type": "code",
   "execution_count": 21,
   "id": "cc2b353f",
   "metadata": {},
   "outputs": [],
   "source": [
    "y = df.pop('CLASS')\n",
    "X = df"
   ]
  },
  {
   "cell_type": "markdown",
   "id": "d1662a38",
   "metadata": {},
   "source": [
    "##### Splitting the dataset into training and test sets in 70:30 ratio"
   ]
  },
  {
   "cell_type": "code",
   "execution_count": 22,
   "id": "dbcf7e4c",
   "metadata": {},
   "outputs": [],
   "source": [
    "X_train, X_test, y_train, y_test = train_test_split(X,y, test_size=0.3, random_state=1)"
   ]
  },
  {
   "cell_type": "code",
   "execution_count": 23,
   "id": "a2f0e37a",
   "metadata": {},
   "outputs": [
    {
     "name": "stdout",
     "output_type": "stream",
     "text": [
      "122    Positive\n",
      "168    Positive\n",
      "23     Positive\n",
      "13     Positive\n",
      "61     Positive\n",
      "         ...   \n",
      "129    Positive\n",
      "144    Positive\n",
      "72     Positive\n",
      "235    Negative\n",
      "37     Positive\n",
      "Name: CLASS, Length: 364, dtype: object\n"
     ]
    }
   ],
   "source": [
    "print(y_train)"
   ]
  },
  {
   "cell_type": "code",
   "execution_count": 24,
   "id": "25b837a6",
   "metadata": {},
   "outputs": [
    {
     "data": {
      "text/plain": [
       "['GENDER',\n",
       " 'POLYURIA',\n",
       " 'POLYDIPSIA',\n",
       " 'SUDDEN_WEIGHT_LOSS',\n",
       " 'WEAKNESS',\n",
       " 'POLYPHAGIA',\n",
       " 'GENITAL_THRUSH',\n",
       " 'VISUAL_BLURRING',\n",
       " 'ITCHING',\n",
       " 'IRRITABILITY',\n",
       " 'DELAYED_HEALING',\n",
       " 'PARTIAL_PARESIS',\n",
       " 'MUSCLE_STIFFNESS',\n",
       " 'ALOPECIA',\n",
       " 'OBESITY']"
      ]
     },
     "execution_count": 24,
     "metadata": {},
     "output_type": "execute_result"
    }
   ],
   "source": [
    "# create a list of catagorical variables\n",
    "category_var_list = list(df.select_dtypes(include='object').columns)\n",
    "category_var_list"
   ]
  },
  {
   "cell_type": "markdown",
   "id": "f1e9f9c2",
   "metadata": {},
   "source": [
    "##### Explore the categorical variable values"
   ]
  },
  {
   "cell_type": "code",
   "execution_count": 25,
   "id": "7ef9c337",
   "metadata": {},
   "outputs": [
    {
     "name": "stdout",
     "output_type": "stream",
     "text": [
      "Category: GENDER Values: ['Male' 'Female']\n",
      "Category: POLYURIA Values: ['No' 'Yes']\n",
      "Category: POLYDIPSIA Values: ['Yes' 'No']\n",
      "Category: SUDDEN_WEIGHT_LOSS Values: ['No' 'Yes']\n",
      "Category: WEAKNESS Values: ['Yes' 'No']\n",
      "Category: POLYPHAGIA Values: ['No' 'Yes']\n",
      "Category: GENITAL_THRUSH Values: ['No' 'Yes']\n",
      "Category: VISUAL_BLURRING Values: ['No' 'Yes']\n",
      "Category: ITCHING Values: ['Yes' 'No']\n",
      "Category: IRRITABILITY Values: ['No' 'Yes']\n",
      "Category: DELAYED_HEALING Values: ['Yes' 'No']\n",
      "Category: PARTIAL_PARESIS Values: ['No' 'Yes']\n",
      "Category: MUSCLE_STIFFNESS Values: ['Yes' 'No']\n",
      "Category: ALOPECIA Values: ['Yes' 'No']\n",
      "Category: OBESITY Values: ['Yes' 'No']\n"
     ]
    }
   ],
   "source": [
    "for cat in category_var_list: \n",
    "    print(f\"Category: {cat} Values: {df[cat].unique()}\")"
   ]
  },
  {
   "cell_type": "markdown",
   "id": "4148c360",
   "metadata": {},
   "source": [
    "##### Label encoding the categorical variables for easy interpretation by our machine learning models"
   ]
  },
  {
   "cell_type": "code",
   "execution_count": 26,
   "id": "f1b13255",
   "metadata": {},
   "outputs": [
    {
     "name": "stdout",
     "output_type": "stream",
     "text": [
      "['No' 'Yes']\n",
      "['Negative' 'Positive']\n"
     ]
    }
   ],
   "source": [
    "# Encoding the training sets first and then transforming the test sets to avoid data leakeges\n",
    "# We can also go ahead with one hot encoding in our scenario. \n",
    "# We choose label encoder as it would not create much redundancy if the data set is updated with huge number of records in the future\n",
    "\n",
    "for col in category_var_list:\n",
    "    le = LabelEncoder()\n",
    "    X_train[col] = le.fit_transform(X_train[col])\n",
    "    X_test[col] = le.transform(X_test[col])\n",
    "print(le.classes_)\n",
    "\n",
    "\n",
    "\n",
    "y_train = le.fit_transform(y_train)\n",
    "y_test = le.transform(y_test)\n",
    "print(le.classes_)\n"
   ]
  },
  {
   "cell_type": "code",
   "execution_count": 27,
   "id": "4e13de1a",
   "metadata": {},
   "outputs": [
    {
     "name": "stdout",
     "output_type": "stream",
     "text": [
      "[1 1 1 1 1 0 1 0 0 0 0 1 0 0 1 0 1 1 0 1 1 0 1 1 1 0 1 1 1 1 1 1 1 1 0 0 1\n",
      " 1 1 1 1 1 0 0 1 0 1 1 0 1 0 0 1 0 0 0 0 1 0 0 1 0 1 1 1 0 1 1 1 1 1 1 1 1\n",
      " 1 1 1 1 1 1 1 1 1 0 1 0 0 0 0 1 1 0 0 0 1 1 0 0 1 1 0 0 1 1 0 1 1 1 1 1 0\n",
      " 0 1 1 1 0 0 0 0 1 1 1 0 0 0 1 1 0 1 1 1 0 1 0 0 1 1 1 0 1 1 1 1 0 0 0 1 0\n",
      " 0 1 0 0 1 1 1 0 1 1 1 1 1 0 1 1 1 1 0 0 1 1 0 0 0 1 1 1 1 0 1 1 1 0 0 1 1\n",
      " 0 0 1 1 1 0 0 1 1 1 1 0 1 0 1 1 1 1 0 1 1 1 0 1 1 0 1 0 1 0 1 1 1 1 1 1 1\n",
      " 0 1 0 1 1 1 1 1 1 0 0 1 1 0 1 1 0 1 0 0 1 0 1 1 0 1 0 1 1 1 1 0 1 0 0 0 1\n",
      " 1 0 1 1 1 1 0 0 0 1 0 1 1 1 1 0 1 1 1 0 1 1 0 1 0 1 1 1 1 1 1 0 0 0 1 1 1\n",
      " 1 1 1 0 1 0 0 1 1 1 0 1 1 1 1 0 1 0 1 1 1 1 1 1 0 0 1 0 0 1 1 0 1 0 0 1 0\n",
      " 0 1 1 0 0 0 0 0 0 1 1 0 0 1 0 1 0 0 0 0 1 0 1 0 0 0 1 1 1 0 1]\n",
      "     AGE  GENDER  POLYURIA  POLYDIPSIA  SUDDEN_WEIGHT_LOSS  WEAKNESS  \\\n",
      "122   40       1         0           1                   0         1   \n",
      "168   37       1         0           0                   0         1   \n",
      "23    48       1         0           1                   1         1   \n",
      "13    61       1         1           1                   1         1   \n",
      "61    35       0         1           1                   1         1   \n",
      "..   ...     ...       ...         ...                 ...       ...   \n",
      "129   48       1         1           1                   1         1   \n",
      "144   68       1         1           1                   0         0   \n",
      "72    65       0         0           0                   0         0   \n",
      "235   26       1         0           0                   0         0   \n",
      "37    63       1         1           1                   1         1   \n",
      "\n",
      "     POLYPHAGIA  GENITAL_THRUSH  VISUAL_BLURRING  ITCHING  IRRITABILITY  \\\n",
      "122           1               0                0        1             1   \n",
      "168           0               0                0        0             0   \n",
      "23            0               0                1        1             1   \n",
      "13            1               1                1        1             0   \n",
      "61            1               0                1        1             0   \n",
      "..          ...             ...              ...      ...           ...   \n",
      "129           0               0                0        1             0   \n",
      "144           1               0                1        1             1   \n",
      "72            0               1                0        0             0   \n",
      "235           0               0                0        0             0   \n",
      "37            1               0                1        0             0   \n",
      "\n",
      "     DELAYED_HEALING  PARTIAL_PARESIS  MUSCLE_STIFFNESS  ALOPECIA  OBESITY  \n",
      "122                1                1                 1         0        1  \n",
      "168                1                0                 0         1        0  \n",
      "23                 1                0                 0         0        0  \n",
      "13                 0                0                 0         1        1  \n",
      "61                 1                1                 1         0        0  \n",
      "..               ...              ...               ...       ...      ...  \n",
      "129                0                1                 0         1        0  \n",
      "144                0                1                 0         0        0  \n",
      "72                 0                0                 0         0        0  \n",
      "235                0                0                 0         0        0  \n",
      "37                 0                0                 1         1        1  \n",
      "\n",
      "[364 rows x 16 columns]\n"
     ]
    }
   ],
   "source": [
    "print(y_train)\n",
    "print(X_train)"
   ]
  },
  {
   "cell_type": "markdown",
   "id": "9e33a39d",
   "metadata": {},
   "source": [
    "##### Checking for Imbalance in data so that our model is not biased"
   ]
  },
  {
   "cell_type": "code",
   "execution_count": 28,
   "id": "8caf84fd",
   "metadata": {},
   "outputs": [
    {
     "name": "stdout",
     "output_type": "stream",
     "text": [
      "1    222\n",
      "0    142\n",
      "dtype: int64\n"
     ]
    }
   ],
   "source": [
    "# Convert y_train to pandas Series\n",
    "y_train = pd.Series(y_train.ravel())\n",
    "\n",
    "# Check value counts of y_train\n",
    "print(y_train.value_counts())\n"
   ]
  },
  {
   "cell_type": "markdown",
   "id": "aa041ea7",
   "metadata": {},
   "source": [
    "##### We can see that the data is pretty imbalanced that can make our model biased"
   ]
  },
  {
   "cell_type": "code",
   "execution_count": 29,
   "id": "61fb21d9",
   "metadata": {},
   "outputs": [
    {
     "data": {
      "image/png": "[encoded data removed]",
      "text/plain": [
       "<Figure size 640x480 with 1 Axes>"
      ]
     },
     "metadata": {},
     "output_type": "display_data"
    }
   ],
   "source": [
    "import matplotlib.pyplot as plt\n",
    "count = y_train.value_counts()\n",
    "count.plot.bar()\n",
    "plt.ylabel('Number of records')\n",
    "plt.xlabel('Target Class')\n",
    "plt.show()"
   ]
  },
  {
   "cell_type": "code",
   "execution_count": 30,
   "id": "5f6fe9a4",
   "metadata": {},
   "outputs": [
    {
     "name": "stdout",
     "output_type": "stream",
     "text": [
      "(364, 16)\n",
      "(364,)\n"
     ]
    }
   ],
   "source": [
    "print(X_train.shape)\n",
    "print(y_train.shape)\n"
   ]
  },
  {
   "cell_type": "markdown",
   "id": "75639815",
   "metadata": {},
   "source": [
    "##### We will be using random oversampler to oversample the minority class, in our case the 0's ie. the negatives"
   ]
  },
  {
   "cell_type": "code",
   "execution_count": 31,
   "id": "449033b1",
   "metadata": {},
   "outputs": [
    {
     "data": {
      "text/plain": [
       "1    222\n",
       "0    222\n",
       "dtype: int64"
      ]
     },
     "execution_count": 31,
     "metadata": {},
     "output_type": "execute_result"
    }
   ],
   "source": [
    "ros = RandomOverSampler(random_state=1)\n",
    "X_train, y_train = ros.fit_resample(X_train, y_train)\n",
    "y_train.value_counts()"
   ]
  },
  {
   "cell_type": "markdown",
   "id": "e2eca7ed",
   "metadata": {},
   "source": [
    "##### The data is balanced now"
   ]
  },
  {
   "cell_type": "code",
   "execution_count": 32,
   "id": "d3a29688",
   "metadata": {},
   "outputs": [
    {
     "data": {
      "image/png": "[encoded data removed]",
      "text/plain": [
       "<Figure size 640x480 with 1 Axes>"
      ]
     },
     "metadata": {},
     "output_type": "display_data"
    }
   ],
   "source": [
    "import matplotlib.pyplot as plt\n",
    "count = y_train.value_counts()\n",
    "count.plot.bar()\n",
    "plt.ylabel('Number of records')\n",
    "plt.xlabel('Target Class')\n",
    "plt.show()"
   ]
  },
  {
   "cell_type": "markdown",
   "id": "cae131f6",
   "metadata": {},
   "source": [
    "##### Storing the processed training and test sets of target and independent variables as CSV's"
   ]
  },
  {
   "cell_type": "code",
   "execution_count": 38,
   "id": "273f5ead",
   "metadata": {
    "scrolled": false
   },
   "outputs": [],
   "source": [
    "\n",
    "X_train.to_csv('C:/Users/shilp/Downloads/X_train.csv', index=False)\n",
    "\n",
    "X_test.to_csv('C:/Users/shilp/Downloads/X_test.csv', index=False)\n",
    "\n",
    "y_train_df = pd.DataFrame(y_train, columns=['CLASS'])\n",
    "y_train_df.to_csv('C:/Users/shilp/Downloads/y_train.csv', index=False)\n",
    "y_test_df = pd.DataFrame(y_test, columns=['CLASS'])\n",
    "y_test_df.to_csv('C:/Users/shilp/Downloads/y_test.csv', index=False)"
   ]
  },
  {
   "cell_type": "code",
   "execution_count": null,
   "id": "2cf9e69f",
   "metadata": {},
   "outputs": [],
   "source": []
  }
 ],
 "metadata": {
  "kernelspec": {
   "display_name": "Python 3 (ipykernel)",
   "language": "python",
   "name": "python3"
  },
  "language_info": {
   "codemirror_mode": {
    "name": "ipython",
    "version": 3
   },
   "file_extension": ".py",
   "mimetype": "text/x-python",
   "name": "python",
   "nbconvert_exporter": "python",
   "pygments_lexer": "ipython3",
   "version": "3.10.9"
  }
 },
 "nbformat": 4,
 "nbformat_minor": 5
}
